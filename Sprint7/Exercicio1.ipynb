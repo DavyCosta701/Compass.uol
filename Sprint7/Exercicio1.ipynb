{
 "cells": [
  {
   "cell_type": "code",
   "execution_count": 2,
   "metadata": {},
   "outputs": [],
   "source": [
    "import numpy as np\n",
    "import pandas as pd\n",
    "df = pd.read_csv(\"actors.csv\")"
   ]
  },
  {
   "attachments": {},
   "cell_type": "markdown",
   "metadata": {},
   "source": [
    "EXERCICIO 1 - Identifique o ator/atriz com maior número de filmes e o respectivo número de filmes"
   ]
  },
  {
   "cell_type": "code",
   "execution_count": 3,
   "metadata": {},
   "outputs": [
    {
     "name": "stdout",
     "output_type": "stream",
     "text": [
      "Ator com mais filmes: Robert DeNiro; Número de filmes: 79\n"
     ]
    }
   ],
   "source": [
    "print(f\"Ator com mais filmes: {df['Actor'][np.argmax(df['Number of Movies'])]}; Número de filmes: {np.max(df['Number of Movies'])}\")\n",
    "    "
   ]
  },
  {
   "attachments": {},
   "cell_type": "markdown",
   "metadata": {},
   "source": [
    "EXERCICIO 2 - Apresente a média da coluna contendo o número de filmes."
   ]
  },
  {
   "cell_type": "code",
   "execution_count": 3,
   "metadata": {},
   "outputs": [
    {
     "name": "stdout",
     "output_type": "stream",
     "text": [
      "Média de número de filmes: 37.88\n"
     ]
    }
   ],
   "source": [
    "print(f\"Média de número de filmes: {np.mean(df['Number of Movies'])}\")"
   ]
  },
  {
   "attachments": {},
   "cell_type": "markdown",
   "metadata": {},
   "source": [
    "EXERCICIO 3 - Apresente o nome do ator/atriz com a maior média por filme"
   ]
  },
  {
   "cell_type": "code",
   "execution_count": 4,
   "metadata": {},
   "outputs": [
    {
     "name": "stdout",
     "output_type": "stream",
     "text": [
      "Ator com maior média: Anthony Daniels; Média por filme: 451.8\n"
     ]
    }
   ],
   "source": [
    "print(f\"Ator com maior média: {df['Actor'][np.argmax(df['Average per Movie'])]}; Média por filme: {np.max(df['Average per Movie'])}\")"
   ]
  },
  {
   "attachments": {},
   "cell_type": "markdown",
   "metadata": {},
   "source": [
    "EXERCICIO 4 - Apresente o nome do(s) filme(s) mais frequente(s) e sua respectiva frequência"
   ]
  },
  {
   "cell_type": "code",
   "execution_count": 16,
   "metadata": {},
   "outputs": [
    {
     "name": "stdout",
     "output_type": "stream",
     "text": [
      "#1 Movie\n",
      "The Avengers                           6\n",
      "Catching Fire                          4\n",
      "Harry Potter / Deathly Hallows (P2)    4\n",
      "The Dark Knight                        3\n",
      "Meet the Fockers                       3\n",
      "Name: #1 Movie, dtype: int64\n"
     ]
    }
   ],
   "source": [
    "top_movies = df.groupby(by=\"#1 Movie\")[\"#1 Movie\"].count().sort_values(ascending=False)\n",
    "print(top_movies.head(5))"
   ]
  }
 ],
 "metadata": {
  "kernelspec": {
   "display_name": "stats",
   "language": "python",
   "name": "python3"
  },
  "language_info": {
   "codemirror_mode": {
    "name": "ipython",
    "version": 3
   },
   "file_extension": ".py",
   "mimetype": "text/x-python",
   "name": "python",
   "nbconvert_exporter": "python",
   "pygments_lexer": "ipython3",
   "version": "3.9.16"
  },
  "orig_nbformat": 4
 },
 "nbformat": 4,
 "nbformat_minor": 2
}
