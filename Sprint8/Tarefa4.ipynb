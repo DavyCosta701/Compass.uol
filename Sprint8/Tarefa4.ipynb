{
 "cells": [
  {
   "cell_type": "code",
   "execution_count": 1,
   "metadata": {},
   "outputs": [],
   "source": [
    "import findspark\n",
    "findspark.init()"
   ]
  },
  {
   "cell_type": "code",
   "execution_count": 2,
   "metadata": {},
   "outputs": [],
   "source": [
    "from pyspark.sql import SparkSession\n",
    "from pyspark import SparkContext, SQLContext\n",
    "import pyspark.sql.functions as F\n",
    "\n"
   ]
  },
  {
   "cell_type": "code",
   "execution_count": 3,
   "metadata": {},
   "outputs": [
    {
     "name": "stderr",
     "output_type": "stream",
     "text": [
      "23/05/10 00:41:52 WARN Utils: Your hostname, davyc-System-Product-Name resolves to a loopback address: 127.0.1.1; using 192.168.0.102 instead (on interface enp6s0)\n",
      "23/05/10 00:41:52 WARN Utils: Set SPARK_LOCAL_IP if you need to bind to another address\n",
      "Setting default log level to \"WARN\".\n",
      "To adjust logging level use sc.setLogLevel(newLevel). For SparkR, use setLogLevel(newLevel).\n",
      "23/05/10 00:41:55 WARN NativeCodeLoader: Unable to load native-hadoop library for your platform... using builtin-java classes where applicable\n"
     ]
    }
   ],
   "source": [
    "spark = SparkSession \\\n",
    "                .builder \\\n",
    "                .master(\"local[*]\")\\\n",
    "                .appName(\"Exercicio Intro\") \\\n",
    "                .getOrCreate()"
   ]
  },
  {
   "attachments": {},
   "cell_type": "markdown",
   "metadata": {},
   "source": [
    "Questão 1"
   ]
  },
  {
   "cell_type": "code",
   "execution_count": 4,
   "metadata": {},
   "outputs": [
    {
     "name": "stderr",
     "output_type": "stream",
     "text": [
      "                                                                                \r"
     ]
    },
    {
     "name": "stdout",
     "output_type": "stream",
     "text": [
      "+----------------+\n",
      "|             _c0|\n",
      "+----------------+\n",
      "|  Frances Bennet|\n",
      "|   Jamie Russell|\n",
      "|  Edward Kistler|\n",
      "|   Sheila Maurer|\n",
      "|Donald Golightly|\n",
      "+----------------+\n",
      "only showing top 5 rows\n",
      "\n"
     ]
    }
   ],
   "source": [
    "df_nomes = spark.read.csv(\"../nomes_aleatorios.txt\", header=False, sep='\\n')\n",
    "df_nomes.show(5)"
   ]
  },
  {
   "attachments": {},
   "cell_type": "markdown",
   "metadata": {},
   "source": [
    "Questão 2"
   ]
  },
  {
   "cell_type": "code",
   "execution_count": 5,
   "metadata": {},
   "outputs": [
    {
     "name": "stdout",
     "output_type": "stream",
     "text": [
      "+-----------------+\n",
      "|             Nome|\n",
      "+-----------------+\n",
      "|   Frances Bennet|\n",
      "|    Jamie Russell|\n",
      "|   Edward Kistler|\n",
      "|    Sheila Maurer|\n",
      "| Donald Golightly|\n",
      "|       David Gray|\n",
      "|      Joy Bennett|\n",
      "|      Paul Kriese|\n",
      "|Berniece Ornellas|\n",
      "|    Brian Farrell|\n",
      "+-----------------+\n",
      "only showing top 10 rows\n",
      "\n"
     ]
    }
   ],
   "source": [
    "df_nomes = df_nomes.withColumnRenamed('_c0', 'Nome')\n",
    "df_nomes.show(10)"
   ]
  },
  {
   "attachments": {},
   "cell_type": "markdown",
   "metadata": {},
   "source": [
    "Questões 3, 4 e 5"
   ]
  },
  {
   "cell_type": "code",
   "execution_count": 6,
   "metadata": {},
   "outputs": [
    {
     "name": "stderr",
     "output_type": "stream",
     "text": [
      "/opt/spark/python/pyspark/sql/column.py:458: FutureWarning: A column as 'key' in getItem is deprecated as of Spark 3.0, and will not be supported in the future release. Use `column[key]` or `column.key` syntax instead.\n",
      "  warnings.warn(\n"
     ]
    },
    {
     "name": "stdout",
     "output_type": "stream",
     "text": [
      "+--------------------+------------+---------------+-------------+\n",
      "|                Nome|Escolaridade|           Pais|AnoNascimento|\n",
      "+--------------------+------------+---------------+-------------+\n",
      "|      Frances Bennet|    Superior|       Paraguai|       1968.0|\n",
      "|       Jamie Russell| Fundamental|       Colombia|       2000.0|\n",
      "|      Edward Kistler| Fundamental|        Equador|       1988.0|\n",
      "|       Sheila Maurer| Fundamental|      Argentina|       1977.0|\n",
      "|    Donald Golightly|    Superior|       Paraguai|       1962.0|\n",
      "|          David Gray| Fundamental|       Colombia|       1995.0|\n",
      "|         Joy Bennett| Fundamental|         Brasil|       1976.0|\n",
      "|         Paul Kriese| Fundamental|         Guiana|       2006.0|\n",
      "|   Berniece Ornellas|       Médio|        Equador|       1984.0|\n",
      "|       Brian Farrell| Fundamental|        Equador|       1970.0|\n",
      "|      Kara Mcelwaine|       Médio|      Venezuela|       1991.0|\n",
      "|       Tracy Herring|       Médio|       Paraguai|       1977.0|\n",
      "|     Howard Lazarine|    Superior|       Suriname|       1964.0|\n",
      "|        Leroy Strahl| Fundamental|      Argentina|       1996.0|\n",
      "|        Ernest Hulet|    Superior|       Colombia|       1978.0|\n",
      "|        David Medina|    Superior|Guiana Francesa|       2010.0|\n",
      "|      Lorenzo Woodis|       Médio|       Paraguai|       1963.0|\n",
      "|         Page Marthe|       Médio|      Argentina|       1963.0|\n",
      "|      Herbert Morris|       Médio|           Peru|       2000.0|\n",
      "|         Albert Leef| Fundamental|         Guiana|       1957.0|\n",
      "|        Charles Hill|       Médio|        Bolivia|       1975.0|\n",
      "|     Helen Blackwell|    Superior|         Brasil|       1989.0|\n",
      "|             Lois Ly|    Superior|      Venezuela|       1947.0|\n",
      "|        Rebecca Snow|    Superior|         Guiana|       1954.0|\n",
      "|         Frank Wiley|    Superior|Guiana Francesa|       1955.0|\n",
      "|    Wallace Mitchell|       Médio|      Venezuela|       1995.0|\n",
      "|      Amanda Gravitt| Fundamental|        Uruguai|       2003.0|\n",
      "|      Gabriel Colyer| Fundamental|       Suriname|       1954.0|\n",
      "|            Mary Lee| Fundamental|      Venezuela|       1976.0|\n",
      "|          Daryl Page|       Médio|        Bolivia|       1949.0|\n",
      "|        Roxie Bernal|       Médio|           Peru|       1996.0|\n",
      "|      Wilfredo Grant| Fundamental|         Guiana|       1955.0|\n",
      "|      Katrina Graham|    Superior|           Peru|       1986.0|\n",
      "|     Jerry Chynoweth| Fundamental|      Venezuela|       2000.0|\n",
      "|         Jessie Jean|       Médio|        Bolivia|       1961.0|\n",
      "|     Kenneth Rayburn| Fundamental|       Colombia|       2002.0|\n",
      "|          Anita Ross|       Médio|         Brasil|       1987.0|\n",
      "|      Mary Dillahunt|    Superior|         Brasil|       2003.0|\n",
      "|          John Meyer|       Médio|Guiana Francesa|       1952.0|\n",
      "|         Sandra Todd|       Médio|      Venezuela|       1961.0|\n",
      "|       Ricky Gilbert| Fundamental|       Paraguai|       1972.0|\n",
      "|       Michael Agnew|       Médio|      Argentina|       1999.0|\n",
      "|      Rosie Lovelady|    Superior|           Peru|       1963.0|\n",
      "|         Donald Vogt|    Superior|Guiana Francesa|       2006.0|\n",
      "|    Flossie Anderson|    Superior|       Paraguai|       1997.0|\n",
      "|         Lisa Baxley| Fundamental|       Paraguai|       1958.0|\n",
      "|       Milton Dillon| Fundamental|           Peru|       1994.0|\n",
      "|          Ned Tester|    Superior|       Colombia|       1968.0|\n",
      "|        James Barton|    Superior|      Venezuela|       1947.0|\n",
      "|       Lynne Dustman|       Médio|       Suriname|       2009.0|\n",
      "|      Ashley Trosper|       Médio|      Argentina|       1977.0|\n",
      "|       George Miller|    Superior|        Equador|       2003.0|\n",
      "|         Milton Rowe| Fundamental|Guiana Francesa|       1959.0|\n",
      "|Christopher Williams|       Médio|         Guiana|       1982.0|\n",
      "|        Juliet Liles|       Médio|        Uruguai|       1988.0|\n",
      "|    Cristina Sheston| Fundamental|       Suriname|       1961.0|\n",
      "|           Ana Baker| Fundamental|           Peru|       1978.0|\n",
      "|          April Ward| Fundamental|      Argentina|       1958.0|\n",
      "|     Charles Randall|       Médio|      Venezuela|       1973.0|\n",
      "|         Hugo Dayton|    Superior|        Bolivia|       1964.0|\n",
      "|       Evelyn Shaver|    Superior|       Paraguai|       1956.0|\n",
      "|      Kenneth Winter| Fundamental|         Guiana|       1960.0|\n",
      "|   Marguerite Rankin| Fundamental|      Venezuela|       1968.0|\n",
      "|       Jenna Johnson| Fundamental|       Suriname|       1985.0|\n",
      "|     Katherine Moore| Fundamental|Guiana Francesa|       1956.0|\n",
      "|         Rita Walter| Fundamental|        Uruguai|       1962.0|\n",
      "|        Ida Randazzo|    Superior|        Uruguai|       1955.0|\n",
      "|    Richelle Vasquez|       Médio|         Brasil|       2000.0|\n",
      "|       Joann Ballard| Fundamental|       Paraguai|       1974.0|\n",
      "|        Jerry Remick|       Médio|      Venezuela|       1963.0|\n",
      "|       Sherry Wilcox|       Médio|        Bolivia|       1978.0|\n",
      "|    Maurice Blizzard|    Superior|      Venezuela|       2004.0|\n",
      "|     Suzanne Bullard|       Médio|        Equador|       1974.0|\n",
      "|        Curtis Sutch|       Médio|        Uruguai|       2007.0|\n",
      "|     Pamela Banuelos|    Superior|       Suriname|       1994.0|\n",
      "|         Shelia Ceja|    Superior|          Chile|       1985.0|\n",
      "|       Joyce Bennett|    Superior|         Guiana|       1952.0|\n",
      "|   George Fiorentino| Fundamental|          Chile|       1992.0|\n",
      "|         Andrew Orem|       Médio|           Peru|       1975.0|\n",
      "|        Jason Martin| Fundamental|         Guiana|       1969.0|\n",
      "|      David Rathbone|       Médio|         Guiana|       1978.0|\n",
      "|        Douglas Boyd|       Médio|        Equador|       1962.0|\n",
      "|     Audrey Mcmillan| Fundamental|        Bolivia|       1996.0|\n",
      "|      Robert Andrews| Fundamental|      Venezuela|       1994.0|\n",
      "|      Lonnie Sanchez| Fundamental|        Equador|       1964.0|\n",
      "|         Thomas Kemp| Fundamental|        Bolivia|       1969.0|\n",
      "|     Kenneth Rayburn|       Médio|       Colombia|       1989.0|\n",
      "|      Kristyn Phelps|    Superior|           Peru|       1996.0|\n",
      "|         Linda Batts|       Médio|       Paraguai|       2003.0|\n",
      "|      Bernard Holmes| Fundamental|      Argentina|       2008.0|\n",
      "|      Roger Guenther| Fundamental|        Equador|       1958.0|\n",
      "|     Elizabeth Crowe|    Superior|       Suriname|       1996.0|\n",
      "|      Michael Farmer| Fundamental|         Brasil|       1956.0|\n",
      "|        Ricky Scheel|       Médio|        Uruguai|       1986.0|\n",
      "|      Rita Robertson| Fundamental|        Uruguai|       1998.0|\n",
      "|         John Snipes|       Médio|        Bolivia|       1952.0|\n",
      "|   Anthony Hernandez|       Médio|       Suriname|       1974.0|\n",
      "|          Lori Allee|       Médio|        Equador|       1952.0|\n",
      "|       Theresa Avila|       Médio|           Peru|       1990.0|\n",
      "|        Jose Gaskins|       Médio|       Suriname|       1958.0|\n",
      "+--------------------+------------+---------------+-------------+\n",
      "only showing top 100 rows\n",
      "\n"
     ]
    }
   ],
   "source": [
    "df_nomes = df_nomes.withColumn(\n",
    "  \"Escolaridade\",\n",
    "  F.array(\n",
    "    F.lit(\"Fundamental\"),\n",
    "    F.lit(\"Médio\"),\n",
    "    F.lit(\"Superior\"),\n",
    "  ).getItem(\n",
    "    (F.rand()*3).cast(\"int\")\n",
    "  )\n",
    ").withColumn(\n",
    "    \"Pais\",\n",
    "    F.array(\n",
    "    F.lit(\"Argentina\"),\n",
    "    F.lit(\"Bolivia\"),\n",
    "    F.lit(\"Brasil\"),\n",
    "    F.lit(\"Colombia\"),\n",
    "    F.lit(\"Chile\"),\n",
    "    F.lit(\"Venezuela\"),\n",
    "    F.lit(\"Guiana\"),\n",
    "    F.lit(\"Paraguai\"),\n",
    "    F.lit(\"Peru\"),\n",
    "    F.lit(\"Uruguai\"),\n",
    "    F.lit(\"Suriname\"),\n",
    "    F.lit(\"Equador\"),\n",
    "    F.lit(\"Guiana Francesa\"),\n",
    "  ).getItem(\n",
    "    (F.rand()*13).cast(\"int\")\n",
    "  )\n",
    ").withColumn(\n",
    "    'AnoNascimento',\n",
    "    F.round(F.rand()*(2010-1945)+1945)\n",
    "\n",
    ")\n",
    "\n",
    "df_nomes.show(100)\n"
   ]
  },
  {
   "attachments": {},
   "cell_type": "markdown",
   "metadata": {},
   "source": [
    "Questão 6"
   ]
  },
  {
   "cell_type": "code",
   "execution_count": 7,
   "metadata": {},
   "outputs": [
    {
     "name": "stdout",
     "output_type": "stream",
     "text": [
      "+----------------+-------------+\n",
      "|            Nome|AnoNascimento|\n",
      "+----------------+-------------+\n",
      "|     Paul Kriese|       2006.0|\n",
      "|    David Medina|       2010.0|\n",
      "|  Amanda Gravitt|       2003.0|\n",
      "| Kenneth Rayburn|       2002.0|\n",
      "|  Mary Dillahunt|       2003.0|\n",
      "|     Donald Vogt|       2006.0|\n",
      "|   Lynne Dustman|       2009.0|\n",
      "|   George Miller|       2003.0|\n",
      "|Maurice Blizzard|       2004.0|\n",
      "|    Curtis Sutch|       2007.0|\n",
      "+----------------+-------------+\n",
      "only showing top 10 rows\n",
      "\n"
     ]
    }
   ],
   "source": [
    "df_select = df_nomes.select(\"Nome\", \"AnoNascimento\").filter(df_nomes['AnoNascimento'] > 2000)\n",
    "df_select.show(10)"
   ]
  },
  {
   "attachments": {},
   "cell_type": "markdown",
   "metadata": {},
   "source": [
    "Questão 7"
   ]
  },
  {
   "cell_type": "code",
   "execution_count": 8,
   "metadata": {},
   "outputs": [
    {
     "name": "stdout",
     "output_type": "stream",
     "text": [
      "+----------------+-------------+\n",
      "|            Nome|AnoNascimento|\n",
      "+----------------+-------------+\n",
      "|     Paul Kriese|       2006.0|\n",
      "|    David Medina|       2010.0|\n",
      "|  Amanda Gravitt|       2003.0|\n",
      "| Kenneth Rayburn|       2002.0|\n",
      "|  Mary Dillahunt|       2003.0|\n",
      "|     Donald Vogt|       2006.0|\n",
      "|   Lynne Dustman|       2009.0|\n",
      "|   George Miller|       2003.0|\n",
      "|Maurice Blizzard|       2004.0|\n",
      "|    Curtis Sutch|       2007.0|\n",
      "+----------------+-------------+\n",
      "only showing top 10 rows\n",
      "\n"
     ]
    }
   ],
   "source": [
    "df_nomes.createOrReplaceTempView(\"pessoas\")\n",
    "spark.sql(\"select Nome, AnoNascimento from pessoas where AnoNascimento > 2000\").show(10)"
   ]
  },
  {
   "attachments": {},
   "cell_type": "markdown",
   "metadata": {},
   "source": [
    "Questão 8"
   ]
  },
  {
   "cell_type": "code",
   "execution_count": 9,
   "metadata": {},
   "outputs": [
    {
     "name": "stderr",
     "output_type": "stream",
     "text": [
      "                                                                                \r"
     ]
    },
    {
     "data": {
      "text/plain": [
       "2305770"
      ]
     },
     "execution_count": 9,
     "metadata": {},
     "output_type": "execute_result"
    }
   ],
   "source": [
    "df_nomes.filter((df_nomes['AnoNascimento'] >= 1980) & (df_nomes['AnoNascimento'] <= 1994)).count()\n"
   ]
  },
  {
   "attachments": {},
   "cell_type": "markdown",
   "metadata": {},
   "source": [
    "Questão 9"
   ]
  },
  {
   "cell_type": "code",
   "execution_count": 33,
   "metadata": {},
   "outputs": [
    {
     "name": "stderr",
     "output_type": "stream",
     "text": [
      "[Stage 43:===========================================>              (3 + 1) / 4]\r"
     ]
    },
    {
     "name": "stdout",
     "output_type": "stream",
     "text": [
      "+-----------+\n",
      "|Millennials|\n",
      "+-----------+\n",
      "|    2305770|\n",
      "+-----------+\n",
      "\n"
     ]
    },
    {
     "name": "stderr",
     "output_type": "stream",
     "text": [
      "                                                                                \r"
     ]
    }
   ],
   "source": [
    "spark.sql(\"select count(Nome) as Millennials from pessoas where anoNascimento >= 1980 and anoNascimento <=1994\").show()"
   ]
  },
  {
   "attachments": {},
   "cell_type": "markdown",
   "metadata": {},
   "source": [
    "Questão 10\n"
   ]
  },
  {
   "cell_type": "code",
   "execution_count": 32,
   "metadata": {},
   "outputs": [
    {
     "name": "stderr",
     "output_type": "stream",
     "text": [
      "[Stage 40:===========================================>              (3 + 1) / 4]\r"
     ]
    },
    {
     "name": "stdout",
     "output_type": "stream",
     "text": [
      "+-------+---------------+\n",
      "|Geracao|           Pais|\n",
      "+-------+---------------+\n",
      "| 231053|      Argentina|\n",
      "| 231384|        Bolivia|\n",
      "| 230888|         Brasil|\n",
      "| 231130|          Chile|\n",
      "| 231140|       Colombia|\n",
      "| 231862|        Equador|\n",
      "| 231056|         Guiana|\n",
      "| 230287|Guiana Francesa|\n",
      "| 230457|       Paraguai|\n",
      "| 230746|           Peru|\n",
      "| 231355|       Suriname|\n",
      "| 231215|        Uruguai|\n",
      "| 230744|      Venezuela|\n",
      "+-------+---------------+\n",
      "\n"
     ]
    },
    {
     "name": "stderr",
     "output_type": "stream",
     "text": [
      "                                                                                \r"
     ]
    }
   ],
   "source": [
    "geracoes = spark.sql(\n",
    "    \"\"\"\n",
    "    SELECT\n",
    "        sum(case when anoNascimento >= 1944 and anoNascimento <=1964 then 1 else 0 end ) as Geracao,        \n",
    "        Pais\n",
    "\n",
    "    from pessoas\n",
    "    group by (Pais)\n",
    "    order by Pais, Geracao desc\n",
    "    \"\"\"\n",
    ")\n",
    "\n",
    "geracoes.show()"
   ]
  }
 ],
 "metadata": {
  "kernelspec": {
   "display_name": "jupyter",
   "language": "python",
   "name": "python3"
  },
  "language_info": {
   "codemirror_mode": {
    "name": "ipython",
    "version": 3
   },
   "file_extension": ".py",
   "mimetype": "text/x-python",
   "name": "python",
   "nbconvert_exporter": "python",
   "pygments_lexer": "ipython3",
   "version": "3.11.2"
  },
  "orig_nbformat": 4
 },
 "nbformat": 4,
 "nbformat_minor": 2
}
